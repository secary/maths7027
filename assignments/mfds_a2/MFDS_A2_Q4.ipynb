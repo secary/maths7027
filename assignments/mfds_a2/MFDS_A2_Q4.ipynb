{
 "cells": [
  {
   "cell_type": "markdown",
   "id": "93648765",
   "metadata": {},
   "source": [
    "# MATHS 7027 Mathematical Foundations of Data Science\n",
    "\n",
    "### Trimester 2，2024\n",
    "### Dongju Ma\n",
    "\n",
    "## Assignment 2 - Question 1\n",
    "## 1(a)\n",
    "To arrange the labourers into 5 groups of 3, we should pick 3 random guys from the origin 15 people, then 3 random guys from the 12 people left, etc. So the expression of this process should be:\n",
    "$$\n",
    "\\frac{\\binom{15}{3} \\times \\binom{12}{3} \\times \\binom{9}{3}\\times \\binom{6}{3} \\times \\binom{3}{3} }{5!}\n",
    "$$\n",
    "which equals 1401400.  \n",
    "And the each team should have different task with others, we should multiple the result before with all the permutions the assign ways have, which is \n",
    "$$\n",
    "1401400\\times5!\\times4!\\times3!\\times2!\\times1!\n",
    "$$\n",
    "which equals 16816800\n",
    "\n",
    "## 1(b)\n",
    "Now they would be performing the same tasks, we should just divide the labourers to 5 diffrent groups. The permution in each group doesn't count and the permution of groups also doesn't count, so we can just use combination of 15 taken 3 to times tne combination of 15-3=12 taken 3 and so on till  the combination of 3 taken 3. Which is important is because of the permution of th3 combinations also doesn't count so we would divide by 5!  \n",
    "The expression is:\n",
    "$$\n",
    "\\frac{\\binom{15}{3} \\times \\binom{12}{3} \\times \\binom{9}{3}\\times \\binom{6}{3} \\times \\binom{3}{3} }{5!}\n",
    "$$\n",
    "which equals 1401400.\n",
    "\n",
    "## Assignment 2 - Question 2\n",
    "## 2(a)  \n",
    "The Venn diagram is below:  \n",
    "\n",
    "![Venn diagram](Venn_diagram_q2.png)\n",
    "\n",
    "## 2(b)  \n",
    "* i. The probability of who uses Reddit is \n",
    "$$\n",
    "\\frac{12+27+35+19}{14+17+19+35+23+28+27+12}=\\frac{93}{175}\\approx0.554\n",
    "$$\n",
    "* ii The probability of who uses at least one platform is\n",
    "$$\n",
    "\\frac{175-14}{175}=\\frac{23}{25}=0.92\n",
    "$$\n",
    "\n",
    "* iii Suppose the probability of who doesn't uses Instagram is $P(A)$, the probability of who uses TikTok is $P(B)$. So who does not use Instagram given that they use TikTok is $P(A|B)$\n",
    "So we can learn\n",
    "$$\n",
    "P(A|B) = \\frac{P(A \\cap B)}{P(B)} = \\frac{28+27}{28+27+35+23} \\approx 0.487 \n",
    "$$\n",
    "\n",
    "## Assignment 2 - Question 3\n",
    "## 3(a) The probability of five are all diamonds is\n",
    "$$\n",
    "\\frac{C(13,5)}{C(52,5)} \\approx 0.000495\n",
    "$$\n",
    "\n",
    "## 3(b) The probability of five are the same suit is\n",
    "$$\n",
    "\\frac{C(13,5)\\times C(4,1)}{C(52,5)} \\approx 0.00198\n",
    "$$\n",
    "\n",
    "## 3(c) There are only 4 circumstances of Royal Flush happening, which is the cards with 4 different suits. So, the probability would be:\n",
    "$$\n",
    "\\frac{4}{C(52,5)} \\approx 1.54\\times10^{-6}\n",
    "$$"
   ]
  },
  {
   "cell_type": "markdown",
   "id": "03755c95",
   "metadata": {},
   "source": [
    "# MATHS 7027 Mathematical Foundations of Data Science\n",
    "## Assignment 2 - Question 4\n",
    "In this question, we will explore the use of `for` loops to calculate sums.\n",
    "\n",
    "The notebook below will teach you how to use these. You should modify this notebook to solve the problems in the assignment, then attach your completed notebook (as a PDF) to your solutions to the other assignment questions.\n",
    "\n",
    "Let's get started.\n",
    "\n",
    "We can calculate sums by adding each new term to the existing sum. This suggests an efficient way to compute sums - by using a **loop**!\n",
    "\n",
    "## `for` loops\n",
    "\n",
    "Here's an example of a `for` loop, which we use to calculate the sum of the first $n=10$ natural numbers:"
   ]
  },
  {
   "cell_type": "code",
   "execution_count": null,
   "id": "a3370728",
   "metadata": {},
   "outputs": [],
   "source": [
    "n = 10\n",
    "sum_n = 0\n",
    "\n",
    "for i in range(1,n+1):\n",
    "    sum_n = sum_n + i\n",
    "    \n",
    "print(\"Sum of the first 10 numbers:\",sum_n)"
   ]
  },
  {
   "cell_type": "markdown",
   "id": "aa6d92b5",
   "metadata": {},
   "source": [
    "You can check that this is correct using the relevant formula from the course material.\n",
    "\n",
    "Let's go through the code line-by-line.\n",
    "\n",
    "First, we define the number of terms to sum (`n = 10`).  \n",
    "Next, we initialise our sum at 0 (`sum_n`).  \n",
    "Then, we loop over the values in `range(1,n+1)`, adding each new value (`+ i`) to `sum_n`. The operation that gets repeated inside the loop needs to be *indented* in Python - the language makes you write nice-looking code, but nice-looking code is generally easy to read, so this is not a bad thing.\n",
    "\n",
    "The final line, which is not indented, is outside of our `for` loop, so our result is only printed after the loop is finished running, and only prints once.\n",
    "\n",
    "So, what are the values in `range(1,n+1)`? Type `list(range(1,n+1))` in the cell below to find out."
   ]
  },
  {
   "cell_type": "code",
   "execution_count": null,
   "id": "8165c1eb",
   "metadata": {},
   "outputs": [],
   "source": [
    "list(range(1,n+1))"
   ]
  },
  {
   "cell_type": "markdown",
   "id": "26e4cf49",
   "metadata": {},
   "source": [
    "That might be a bit surprising: `range(a,b)` creates a list of integers, starting at `a` and ending at `b-1`. You might expect the list to end at `b`, but this isn't the case. The `range` command can also take a single argument, `range(n)`, which is equivalent to `range(0,n)`.\n",
    "\n",
    "To give us a better understanding of what's going on you can try the following (but you **don't** have to submit this):\n",
    "- put `print(i)` inside the loop above to see how the loop is incremented\n",
    "- put `print(sum_n)` inside the loop to see how the sum is recursively calculated\n",
    "\n",
    "## 4(a)\n",
    "\n",
    "Use a loop to calculate: $$\\sum_{n=3}^{9}n^{3}-6n^{2}$$"
   ]
  },
  {
   "cell_type": "code",
   "execution_count": 1,
   "id": "3749611d",
   "metadata": {},
   "outputs": [
    {
     "name": "stdout",
     "output_type": "stream",
     "text": [
      "336\n"
     ]
    }
   ],
   "source": [
    "n = 3\n",
    "sum_n =0\n",
    "\n",
    "for i in range(n,10):\n",
    "    sum_n += i**3 - 6*i**2\n",
    "    \n",
    "print(sum_n)"
   ]
  },
  {
   "cell_type": "markdown",
   "id": "04e53ca6",
   "metadata": {},
   "source": [
    "## 4(b)\n",
    "Now, let's try to approximate an infinite series. Consider the following series:\n",
    "$$\\sum_{i=0}^{\\infty}\\frac{1}{i!}$$\n",
    "\n",
    "Use loops to calculate the partial sums $S_{4}$, $S_{9}$, and $S_{20}$.\n",
    "\n",
    "Based on your partial sums, say if you think the infinite series converges, and what value it converges to.\n",
    "\n",
    "Make sure you show the values you calculate for $S_{4}$, $S_{9}$, and $S_{20}$."
   ]
  },
  {
   "cell_type": "code",
   "execution_count": 5,
   "id": "615474f2",
   "metadata": {},
   "outputs": [
    {
     "name": "stdout",
     "output_type": "stream",
     "text": [
      "2.708333333333333 2.7182815255731922 2.7182818284590455\n"
     ]
    }
   ],
   "source": [
    "def series_sum(n):\n",
    "    sum_n = 0\n",
    "    factorial_n = 1\n",
    "    for i in range(0,n+1):\n",
    "        if i == 0:\n",
    "            factorial_n = 1\n",
    "        else:\n",
    "            factorial_n *= i\n",
    "            \n",
    "        sum_n += 1/factorial_n\n",
    "        \n",
    "    return sum_n\n",
    "\n",
    "s4 = series_sum(4)\n",
    "s9 = series_sum(9)\n",
    "s20 = series_sum(20)\n",
    "print(s4,s9,s20)"
   ]
  },
  {
   "cell_type": "markdown",
   "id": "7020ed00",
   "metadata": {},
   "source": [
    "I think the series does converges and it converges to $e$."
   ]
  }
 ],
 "metadata": {
  "kernelspec": {
   "display_name": "Python 3 (ipykernel)",
   "language": "python",
   "name": "python3"
  },
  "language_info": {
   "codemirror_mode": {
    "name": "ipython",
    "version": 3
   },
   "file_extension": ".py",
   "mimetype": "text/x-python",
   "name": "python",
   "nbconvert_exporter": "python",
   "pygments_lexer": "ipython3",
   "version": "3.10.11"
  }
 },
 "nbformat": 4,
 "nbformat_minor": 5
}
