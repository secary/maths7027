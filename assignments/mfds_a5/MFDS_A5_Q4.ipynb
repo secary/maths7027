{
 "cells": [
  {
   "cell_type": "markdown",
   "metadata": {},
   "source": [
    "## Assignment 5 - Question 4\n",
    "\n",
    "Consider the network comprising nodes $A$, $B$, $C$, and $D$, and represented by the matrix $M = \\begin{bmatrix}0 & 0 & 0 & \\frac{1}{2} \\\\ 1 & 0 & \\frac{1}{2} & \\frac{1}{2} \\\\ 0 & \\frac{1}{2} & 0 & 0 \\\\ 0 & \\frac{1}{2} & \\frac{1}{2} & 0\\end{bmatrix}$."
   ]
  },
  {
   "cell_type": "markdown",
   "metadata": {},
   "source": [
    "## 4(a)\n",
    "Enter $M$ as an `array`."
   ]
  },
  {
   "cell_type": "code",
   "execution_count": 14,
   "metadata": {},
   "outputs": [],
   "source": [
    "import numpy as np\n",
    "M = np.array([\n",
    "    [0, 0, 0, 0.5],\n",
    "    [1, 0, 0.5, 0.5],\n",
    "    [0, 0.5, 0, 0],\n",
    "    [0, 0.5, 0.5, 0]\n",
    "])"
   ]
  },
  {
   "cell_type": "markdown",
   "metadata": {},
   "source": [
    "## 4(b)\n",
    "Let $\\boldsymbol{x} = \\begin{bmatrix}x_{A} \\\\ x_{B} \\\\ x_{C} \\\\ x_{D}\\end{bmatrix}$. Use the PageRank algorithm to solve $M\\boldsymbol{x} = \\boldsymbol{x}$.\n",
    "\n",
    "_Hint: You may find [Computer Exercise 5](https://myuni.adelaide.edu.au/courses/84785/pages/computer-exercise-5-week-9) helpful._"
   ]
  },
  {
   "cell_type": "code",
   "execution_count": 13,
   "metadata": {},
   "outputs": [
    {
     "data": {
      "text/plain": [
       "array([0.26832816, 0.71554175, 0.35777088, 0.53665631])"
      ]
     },
     "execution_count": 13,
     "metadata": {},
     "output_type": "execute_result"
    }
   ],
   "source": [
    "results = np.linalg.eig(M)\n",
    "eigenvector = results[1][:,0].real \n",
    "eigenvector"
   ]
  },
  {
   "cell_type": "markdown",
   "metadata": {},
   "source": [
    "## 4(c)\n",
    "Hence, order the nodes $A$, $B$, $C$, and $D$ from most important to least important."
   ]
  },
  {
   "cell_type": "code",
   "execution_count": 22,
   "metadata": {},
   "outputs": [
    {
     "name": "stdout",
     "output_type": "stream",
     "text": [
      "B,D,C,A\n"
     ]
    }
   ],
   "source": [
    "print('B,D,C,A')"
   ]
  }
 ],
 "metadata": {
  "kernelspec": {
   "display_name": "Python 3 (ipykernel)",
   "language": "python",
   "name": "python3"
  },
  "language_info": {
   "codemirror_mode": {
    "name": "ipython",
    "version": 3
   },
   "file_extension": ".py",
   "mimetype": "text/x-python",
   "name": "python",
   "nbconvert_exporter": "python",
   "pygments_lexer": "ipython3",
   "version": "3.10.11"
  }
 },
 "nbformat": 4,
 "nbformat_minor": 4
}
