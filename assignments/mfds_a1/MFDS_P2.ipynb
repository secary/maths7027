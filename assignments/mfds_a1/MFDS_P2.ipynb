{
 "cells": [
  {
   "cell_type": "markdown",
   "metadata": {},
   "source": [
    "# Mathematical Foundations of Data Science\n",
    "## Practical 2 (Week 3)\n",
    "\n",
    "In this practical, we will see how to work with basic mathematical functions in Python.\n",
    "\n",
    "## Basic Arithmetic in Python\n",
    "\n",
    "We can carry out basic arithmetic operations with Python. Let's start with a couple of variables."
   ]
  },
  {
   "cell_type": "code",
   "execution_count": null,
   "metadata": {},
   "outputs": [],
   "source": [
    "x = 3\n",
    "y = 4"
   ]
  },
  {
   "cell_type": "markdown",
   "metadata": {},
   "source": [
    "We can add with `+` and subtract with `-`."
   ]
  },
  {
   "cell_type": "code",
   "execution_count": null,
   "metadata": {},
   "outputs": [],
   "source": [
    "x+y"
   ]
  },
  {
   "cell_type": "code",
   "execution_count": null,
   "metadata": {},
   "outputs": [],
   "source": [
    "x-y"
   ]
  },
  {
   "cell_type": "markdown",
   "metadata": {},
   "source": [
    "We can multiply with `*` and divide with `/`."
   ]
  },
  {
   "cell_type": "code",
   "execution_count": null,
   "metadata": {},
   "outputs": [],
   "source": [
    "x*y"
   ]
  },
  {
   "cell_type": "code",
   "execution_count": null,
   "metadata": {},
   "outputs": [],
   "source": [
    "x/y"
   ]
  },
  {
   "cell_type": "markdown",
   "metadata": {},
   "source": [
    "Hopefully no surprises so far, but we have actually encountered something new (though it may not be obvious). Much like we saw different *sets* of numbers in Section 1, Python has different types of numbers, too. When we first defined $x$ and $y$, they were both integers. Adding (`+`), subtracting (`-`), and multiplying (`*`) $x$ and $y$ returned integers, too. But the answer to $x/y$ is a decimal number, so Python treats it differently. In Python, decimal numbers are called \"floating point\" numbers.\n",
    "\n",
    "The `type()` function can be used to return the type of number (or the type of any object in Python)."
   ]
  },
  {
   "cell_type": "code",
   "execution_count": null,
   "metadata": {},
   "outputs": [],
   "source": [
    "type(1)"
   ]
  },
  {
   "cell_type": "code",
   "execution_count": 1,
   "metadata": {},
   "outputs": [
    {
     "data": {
      "text/plain": [
       "float"
      ]
     },
     "execution_count": 1,
     "metadata": {},
     "output_type": "execute_result"
    }
   ],
   "source": [
    "type(0.75)"
   ]
  },
  {
   "cell_type": "markdown",
   "metadata": {},
   "source": [
    "In general, floating point numbers are *approximations*, rather than exact values. For example, consider $y/x = 4/3$:"
   ]
  },
  {
   "cell_type": "code",
   "execution_count": null,
   "metadata": {},
   "outputs": [],
   "source": [
    "y/x"
   ]
  },
  {
   "cell_type": "markdown",
   "metadata": {},
   "source": [
    "Floating point numbers are also used to deal with very large and very small numbers that use scientific notation. The letter `e` followed by a number indicates 10 to that power, so, for example $1000 = 1e03$ and $0.024 = 2.4e-02$."
   ]
  },
  {
   "cell_type": "code",
   "execution_count": null,
   "metadata": {},
   "outputs": [],
   "source": [
    "1/123456789"
   ]
  },
  {
   "cell_type": "code",
   "execution_count": null,
   "metadata": {},
   "outputs": [],
   "source": [
    "123456789*123456789"
   ]
  },
  {
   "cell_type": "code",
   "execution_count": null,
   "metadata": {},
   "outputs": [],
   "source": [
    "123456789*123456789.0"
   ]
  },
  {
   "cell_type": "markdown",
   "metadata": {},
   "source": [
    "Note the difference between the last two answers.\n",
    "\n",
    "When we calculate `123456789*123456789`, we are calculating the product of two integers and get an integer answer.\n",
    "\n",
    "But, when we calculate `123456789*123456789.0`, the decimal point in the second number makes it a floating point number. When we multiply an integer by a floating point number, we get a floating point number. Here, the answer is big enough that Python has expressed that number using scientific notation - it didn't do this when we just used integers!\n",
    "\n",
    "Generally, division (`/`) results in a floating point number, even if the answer could be represented as an integer."
   ]
  },
  {
   "cell_type": "code",
   "execution_count": null,
   "metadata": {},
   "outputs": [],
   "source": [
    "type(4/2)"
   ]
  },
  {
   "cell_type": "markdown",
   "metadata": {},
   "source": [
    "There is another type of division represented by `//` which always produces an integer "
   ]
  },
  {
   "cell_type": "code",
   "execution_count": null,
   "metadata": {},
   "outputs": [],
   "source": [
    "type(4//2)"
   ]
  },
  {
   "cell_type": "markdown",
   "metadata": {},
   "source": [
    "#### An Interesting Question\n",
    "What happens if we try to use integer division `//` in a situation where the result is not an integer?\n",
    "\n",
    "Try it yourself in the cell below, and see if you can deduce what is happening."
   ]
  },
  {
   "cell_type": "code",
   "execution_count": 4,
   "metadata": {},
   "outputs": [
    {
     "data": {
      "text/plain": [
       "2"
      ]
     },
     "execution_count": 4,
     "metadata": {},
     "output_type": "execute_result"
    }
   ],
   "source": [
    "89//31"
   ]
  },
  {
   "cell_type": "markdown",
   "metadata": {},
   "source": [
    "The final arithmetic operation we'll look at is raising a number to a power (also called exponentiation). For this, we use `**`, so, for instance, `3**2` $= 3^{2}$."
   ]
  },
  {
   "cell_type": "code",
   "execution_count": null,
   "metadata": {},
   "outputs": [],
   "source": [
    "3**2"
   ]
  },
  {
   "cell_type": "markdown",
   "metadata": {},
   "source": [
    "You can test out the arithmetic operations we've seen by coming up with your own calculations in the cells below."
   ]
  },
  {
   "cell_type": "code",
   "execution_count": null,
   "metadata": {},
   "outputs": [],
   "source": [
    "4 + 5**2\n"
   ]
  },
  {
   "cell_type": "code",
   "execution_count": 5,
   "metadata": {},
   "outputs": [
    {
     "data": {
      "text/plain": [
       "129961739795077"
      ]
     },
     "execution_count": 5,
     "metadata": {},
     "output_type": "execute_result"
    }
   ],
   "source": [
    "37**9"
   ]
  },
  {
   "cell_type": "markdown",
   "metadata": {},
   "source": [
    "Now, let's test out what you have learnt. Do the following calculation: $\\frac{(123+987)^2 - 1000.1}{1.234\\times 10^5}$  \n",
    "*Hint: You might need to use brackets (`(` and `)`) when writing your calculation.*"
   ]
  },
  {
   "cell_type": "code",
   "execution_count": 7,
   "metadata": {},
   "outputs": [
    {
     "data": {
      "text/plain": [
       "9.976498379254457"
      ]
     },
     "execution_count": 7,
     "metadata": {},
     "output_type": "execute_result"
    }
   ],
   "source": [
    "((123+987)**2-1000.1)/(1.234*10**5)"
   ]
  },
  {
   "cell_type": "markdown",
   "metadata": {},
   "source": [
    "Your answer should be 9.976498379254457.\n",
    "\n",
    "## The Math Module\n",
    "\n",
    "Python has many modules that are used to access specialised operations. These modules need to be imported before we can use them. The `math` module contains many useful mathematical operations; these can be accessed using the command math.*function*(), where *function* is the name of the specific function we want to use. For example, `math.sqrt()` can be used to calculate the square root of a number.\n",
    "\n",
    "Let's start by trying this *without* importing the math module. Trying to use a function without importing the necessary module first is a common mistake, so it will be helpful to see what the error message looks like."
   ]
  },
  {
   "cell_type": "code",
   "execution_count": null,
   "metadata": {},
   "outputs": [],
   "source": [
    "math.sqrt(4)"
   ]
  },
  {
   "cell_type": "markdown",
   "metadata": {},
   "source": [
    "We've received an error message because `math` is not recognised. Let's import it and then try again."
   ]
  },
  {
   "cell_type": "code",
   "execution_count": 9,
   "metadata": {},
   "outputs": [
    {
     "data": {
      "text/plain": [
       "2.0"
      ]
     },
     "execution_count": 9,
     "metadata": {},
     "output_type": "execute_result"
    }
   ],
   "source": [
    "import math\n",
    "math.sqrt(4)"
   ]
  },
  {
   "cell_type": "markdown",
   "metadata": {},
   "source": [
    "Now that we have imported `math`, we can access it without having to import it again for the rest of our session. Try calculating another square root below without the import math command."
   ]
  },
  {
   "cell_type": "code",
   "execution_count": 10,
   "metadata": {},
   "outputs": [
    {
     "data": {
      "text/plain": [
       "1.7320508075688772"
      ]
     },
     "execution_count": 10,
     "metadata": {},
     "output_type": "execute_result"
    }
   ],
   "source": [
    "math.sqrt(3)"
   ]
  },
  {
   "cell_type": "markdown",
   "metadata": {},
   "source": [
    "The math module also allow access to some important constants, such as $\\pi$."
   ]
  },
  {
   "cell_type": "code",
   "execution_count": 11,
   "metadata": {},
   "outputs": [
    {
     "data": {
      "text/plain": [
       "3.141592653589793"
      ]
     },
     "execution_count": 11,
     "metadata": {},
     "output_type": "execute_result"
    }
   ],
   "source": [
    "math.pi"
   ]
  },
  {
   "cell_type": "markdown",
   "metadata": {},
   "source": [
    "You can see all of the functions provided by the math module here https://docs.python.org/3/library/math.html. Some of them will be familiar to you and some will not. We will introduce the functions we need as we encounter them throughout the course. \n",
    "\n",
    "See if you can find out how to do the following calculation:\n",
    "$\\sqrt{\\ln(5)+ \\sqrt[3]{2}}$  \n",
    "*Hint: The function `math.cbrt()` might not work on your version of Python/Anaconda. Can you think of another way to calculate $\\sqrt[3]{2}$?*"
   ]
  },
  {
   "cell_type": "code",
   "execution_count": 13,
   "metadata": {},
   "outputs": [
    {
     "data": {
      "text/plain": [
       "1.6939182277574596"
      ]
     },
     "execution_count": 13,
     "metadata": {},
     "output_type": "execute_result"
    }
   ],
   "source": [
    "math.sqrt(math.log(5)+math.cbrt(2))"
   ]
  },
  {
   "cell_type": "markdown",
   "metadata": {},
   "source": [
    "Your answer should be 1.6939182277574598.\n",
    "\n",
    "## Defining Functions\n",
    "\n",
    "We can define our own functions in Python. Run the cell below to define the function $f(x) = \\frac{(x^2+1)}{x-7}$."
   ]
  },
  {
   "cell_type": "code",
   "execution_count": 29,
   "metadata": {},
   "outputs": [],
   "source": [
    "def f(x):\n",
    "    return (x**2+1)/(x-7)"
   ]
  },
  {
   "cell_type": "markdown",
   "metadata": {},
   "source": [
    "Note a couple of points of syntax:\n",
    "- we need a semicolon (`:`) after the `def` command\n",
    "- the next line must be indented - Jupyter does this automatically\n",
    "- the definition includes the name of our function (`f`)\n",
    "- the definition also includes the variable our function depends on (`x`)\n",
    "\n",
    "We should now be able to call values of our function."
   ]
  },
  {
   "cell_type": "code",
   "execution_count": null,
   "metadata": {},
   "outputs": [],
   "source": [
    "f(1.35)"
   ]
  },
  {
   "cell_type": "code",
   "execution_count": null,
   "metadata": {},
   "outputs": [],
   "source": [
    "f(10)"
   ]
  },
  {
   "cell_type": "code",
   "execution_count": null,
   "metadata": {},
   "outputs": [],
   "source": [
    "f(7)"
   ]
  },
  {
   "cell_type": "markdown",
   "metadata": {},
   "source": [
    "If we look at our function, it should be clear why the last value (`f(7)`) doesn't work (think about what you know about domains), but it's good to be familiar with what errors look like when they occur.\n",
    "\n",
    "Python already has lots of mathematical functions built in, but remember that we need to import a module before we can use them. We will encounter a few different mathematical packages; we've already seen `math`, but let's now look at another.\n",
    "\n",
    "We can use `pylab` to define many common functions. For example, we can define $g(x) = e^{f(x)}$, where $f(x)$ is the function we defined above. Remember, we will need to import `pylab` before we can use it. Once we've defined $g(x)$, we'll test it out by calcuting $g(1)$."
   ]
  },
  {
   "cell_type": "code",
   "execution_count": null,
   "metadata": {},
   "outputs": [],
   "source": [
    "import pylab\n",
    "def g(x):\n",
    "    return pylab.exp(f(x))\n",
    "g(1)"
   ]
  },
  {
   "cell_type": "markdown",
   "metadata": {},
   "source": [
    "We have also seen some piecewise functions. We can define these in Python using `if`, `elif`, and `else` commands.  \n",
    "For example, suppose $p(x) = \\begin{cases} 0 \\text{ if } x < 1 \\\\ x \\text{ if } 1 \\leq x \\leq 2 \\\\ x^2 +3 \\text{ \n",
    "if } x > 2 \\end{cases}$"
   ]
  },
  {
   "cell_type": "code",
   "execution_count": 15,
   "metadata": {},
   "outputs": [],
   "source": [
    "def p(x):\n",
    "    if x < 1:\n",
    "        return 0\n",
    "    elif 1 <= x <= 2:\n",
    "        return x\n",
    "    else:\n",
    "        return x**2 + 3"
   ]
  },
  {
   "cell_type": "markdown",
   "metadata": {},
   "source": [
    "Now try evaluating some values of $p$; choose three values of $x$ which test out the three different pieces of $p$ in the cells below."
   ]
  },
  {
   "cell_type": "code",
   "execution_count": 16,
   "metadata": {},
   "outputs": [
    {
     "data": {
      "text/plain": [
       "0"
      ]
     },
     "execution_count": 16,
     "metadata": {},
     "output_type": "execute_result"
    }
   ],
   "source": [
    "p(-1)"
   ]
  },
  {
   "cell_type": "code",
   "execution_count": 17,
   "metadata": {},
   "outputs": [
    {
     "data": {
      "text/plain": [
       "1.5"
      ]
     },
     "execution_count": 17,
     "metadata": {},
     "output_type": "execute_result"
    }
   ],
   "source": [
    "p(1.5)"
   ]
  },
  {
   "cell_type": "code",
   "execution_count": 18,
   "metadata": {},
   "outputs": [
    {
     "data": {
      "text/plain": [
       "1672319783405833447"
      ]
     },
     "execution_count": 18,
     "metadata": {},
     "output_type": "execute_result"
    }
   ],
   "source": [
    "p(1293182038)"
   ]
  },
  {
   "cell_type": "markdown",
   "metadata": {},
   "source": [
    "Can you define the absolute value function $|x|$? Try it in the cell below.  \n",
    "*Hint: You could give your function the name $A(x)$.*"
   ]
  },
  {
   "cell_type": "code",
   "execution_count": null,
   "metadata": {},
   "outputs": [],
   "source": [
    "def A(x):\n",
    "    return abs(x)"
   ]
  },
  {
   "cell_type": "markdown",
   "metadata": {},
   "source": [
    "Actually, we don't need to define it from scratch because it's already defined."
   ]
  },
  {
   "cell_type": "code",
   "execution_count": null,
   "metadata": {},
   "outputs": [],
   "source": [
    "abs(-2)"
   ]
  },
  {
   "cell_type": "markdown",
   "metadata": {},
   "source": [
    "You could compare `abs(x)` to your `A(x)` to see if your function is correct.\n",
    "\n",
    "## Graphs\n",
    "\n",
    "Last time, we made a histogram with `pyplot`. We can also use this to plot the graphs of functions.\n",
    "\n",
    "Here is the link to the `pyplot` tutorial again: [https://matplotlib.org/stable/tutorials/introductory/pyplot.html](https://matplotlib.org/stable/tutorials/introductory/pyplot.html).\n",
    "\n",
    "Try plotting the graph of $f(x)$ between $0$ and $4$ by taking $15$ samples.\n",
    "\n",
    "*Hint: You will need to `import numpy as np` and use `np.arange`, as in the tutorial. Python plots pairs of values; you need to use `np.arange` to define your x values, then plot a curve based on the pairs (x,f(x)).*"
   ]
  },
  {
   "cell_type": "code",
   "execution_count": 25,
   "metadata": {},
   "outputs": [],
   "source": [
    "import numpy as np\n",
    "import matplotlib.pyplot as plt\n"
   ]
  },
  {
   "cell_type": "markdown",
   "metadata": {},
   "source": [
    "What happens if we try to plot it between $0$ and $8$ (say with step size 0.0175)? (What about step size 0.02?)\n",
    "\n",
    "Notice that the output is pretty sensitive to the step size, and also has some strange vertical-looking lines. What do you think is going on here?"
   ]
  },
  {
   "cell_type": "code",
   "execution_count": 39,
   "metadata": {},
   "outputs": [
    {
     "data": {
      "text/plain": [
       "[<matplotlib.lines.Line2D at 0x296b6955c10>]"
      ]
     },
     "execution_count": 39,
     "metadata": {},
     "output_type": "execute_result"
    },
    {
     "data": {
      "image/png": "[encoded data removed]",
      "text/plain": [
       "<Figure size 640x480 with 1 Axes>"
      ]
     },
     "metadata": {},
     "output_type": "display_data"
    }
   ],
   "source": [
    "def f(x):\n",
    "    return (x**2+1)/(x-7)\n",
    "\n",
    "x = np.arange(0,4,4/15)\n",
    "y = f(x)\n",
    "plt.plot(y)"
   ]
  },
  {
   "cell_type": "code",
   "execution_count": 66,
   "metadata": {},
   "outputs": [
    {
     "data": {
      "text/plain": [
       "[<matplotlib.lines.Line2D at 0x296b8562ed0>]"
      ]
     },
     "execution_count": 66,
     "metadata": {},
     "output_type": "execute_result"
    },
    {
     "data": {
      "image/png": "[encoded data removed]",
      "text/plain": [
       "<Figure size 640x480 with 1 Axes>"
      ]
     },
     "metadata": {},
     "output_type": "display_data"
    }
   ],
   "source": [
    "import numpy as np\n",
    "import matplotlib.pyplot as plt \n",
    "\n",
    "\n",
    "def f(x):\n",
    "    if x >= 1 and x <= 3:\n",
    "        return 0.5*(x-1)**2+2\n",
    "    \n",
    "def g(x):\n",
    "    if x > 3 and x < 5:\n",
    "        return -0.5*x+3.5  \n",
    "    \n",
    "x1 = np.linspace(1,3,400)\n",
    "y1 = np.array([f(t) for t in x1])\n",
    "x2 = np.arange(3,5,2/400)\n",
    "y2 = np.array([g(t) for t in x2])\n",
    "plt.plot(x1,y1,color='blue')\n",
    "plt.plot(x2,y2,color='red')"
   ]
  },
  {
   "cell_type": "code",
   "execution_count": 64,
   "metadata": {},
   "outputs": [
    {
     "ename": "IndexError",
     "evalue": "index 0 is out of bounds for axis 0 with size 0",
     "output_type": "error",
     "traceback": [
      "\u001b[1;31m---------------------------------------------------------------------------\u001b[0m",
      "\u001b[1;31mIndexError\u001b[0m                                Traceback (most recent call last)",
      "Cell \u001b[1;32mIn[64], line 20\u001b[0m\n\u001b[0;32m     17\u001b[0m y_values \u001b[38;5;241m=\u001b[39m np\u001b[38;5;241m.\u001b[39marray([piecewise_function(x) \u001b[38;5;28;01mfor\u001b[39;00m x \u001b[38;5;129;01min\u001b[39;00m x_values])\n\u001b[0;32m     19\u001b[0m \u001b[38;5;66;03m# 找到转折点的索引\u001b[39;00m\n\u001b[1;32m---> 20\u001b[0m turning_point_index \u001b[38;5;241m=\u001b[39m \u001b[43mnp\u001b[49m\u001b[38;5;241;43m.\u001b[39;49m\u001b[43mwhere\u001b[49m\u001b[43m(\u001b[49m\u001b[43mx_values\u001b[49m\u001b[43m \u001b[49m\u001b[38;5;241;43m==\u001b[39;49m\u001b[43m \u001b[49m\u001b[38;5;241;43m5\u001b[39;49m\u001b[43m)\u001b[49m\u001b[43m[\u001b[49m\u001b[38;5;241;43m0\u001b[39;49m\u001b[43m]\u001b[49m\u001b[43m[\u001b[49m\u001b[38;5;241;43m0\u001b[39;49m\u001b[43m]\u001b[49m\n\u001b[0;32m     22\u001b[0m \u001b[38;5;66;03m# 在转折点处插入 NaN\u001b[39;00m\n\u001b[0;32m     23\u001b[0m x_values_with_nan \u001b[38;5;241m=\u001b[39m np\u001b[38;5;241m.\u001b[39minsert(x_values, turning_point_index, np\u001b[38;5;241m.\u001b[39mnan)\n",
      "\u001b[1;31mIndexError\u001b[0m: index 0 is out of bounds for axis 0 with size 0"
     ]
    }
   ],
   "source": [
    "import numpy as np\n",
    "import matplotlib.pyplot as plt\n",
    "\n",
    "# 定义分段函数\n",
    "def piecewise_function(x):\n",
    "    if x < 0:\n",
    "        return x**2\n",
    "    elif 0 <= x < 5:\n",
    "        return 2*x\n",
    "    else:\n",
    "        return 3*x - 5\n",
    "\n",
    "# 生成 x 值的范围\n",
    "x_values = np.linspace(-2, 8, 400)  # 从 -2 到 8，生成 400 个点\n",
    "\n",
    "# 计算对应的 y 值\n",
    "y_values = np.array([piecewise_function(x) for x in x_values])\n",
    "\n",
    "# 找到转折点的索引\n",
    "turning_point_index = np.where(x_values == 5)[0][0]\n",
    "\n",
    "# 在转折点处插入 NaN\n",
    "x_values_with_nan = np.insert(x_values, turning_point_index, np.nan)\n",
    "y_values_with_nan = np.insert(y_values, turning_point_index, np.nan)\n",
    "\n",
    "# 绘制图形\n",
    "plt.plot(x_values_with_nan, y_values_with_nan, label='Piecewise Function', color='blue')\n",
    "plt.xlabel('x')\n",
    "plt.ylabel('f(x)')\n",
    "plt.title('Piecewise Function Plot with Discontinuity')\n",
    "plt.grid(True)\n",
    "plt.legend()\n",
    "plt.show()"
   ]
  }
 ],
 "metadata": {
  "kernelspec": {
   "display_name": "Python 3 (ipykernel)",
   "language": "python",
   "name": "python3"
  },
  "language_info": {
   "codemirror_mode": {
    "name": "ipython",
    "version": 3
   },
   "file_extension": ".py",
   "mimetype": "text/x-python",
   "name": "python",
   "nbconvert_exporter": "python",
   "pygments_lexer": "ipython3",
   "version": "3.10.11"
  },
  "toc": {
   "base_numbering": 1,
   "nav_menu": {},
   "number_sections": true,
   "sideBar": true,
   "skip_h1_title": false,
   "title_cell": "Table of Contents",
   "title_sidebar": "Contents",
   "toc_cell": false,
   "toc_position": {},
   "toc_section_display": true,
   "toc_window_display": false
  }
 },
 "nbformat": 4,
 "nbformat_minor": 2
}
