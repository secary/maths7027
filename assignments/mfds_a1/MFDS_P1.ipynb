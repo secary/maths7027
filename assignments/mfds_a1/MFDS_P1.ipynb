{
 "cells": [
  {
   "cell_type": "markdown",
   "metadata": {},
   "source": [
    "# Mathematical Foundations of Data Science\n",
    "## Practical 1 (Week 1)\n",
    "\n",
    "Hi! Welcome to Python 3. If you've made it this far, you've already figured out how to open a Jupyter Notebook, which is great news. This first practical is going to teach you how to find your way around Python and introduce some basic concepts of this programming language.\n",
    "\n",
    "Notebooks are a great way to program in Python - they let us write and execute code in blocks, as well as write text like you might in a regular paper notebook. You should think of them like a \"lab book\" - you can play around with code, and write notes about what you're doing as you go along.\n",
    "\n",
    "Let's get straight into it! Below this block of text is a grey box, with a piece of Python code written in it (you can tell it's code because of the different font). I want you to click once inside that box, and then press `Ctrl + Enter` on your keyboard (or `Shift + Enter` if you are using a Mac). Give it a try, and then we'll explain what has happened."
   ]
  },
  {
   "cell_type": "code",
   "execution_count": 15,
   "metadata": {},
   "outputs": [
    {
     "name": "stdout",
     "output_type": "stream",
     "text": [
      "Hello world!\n"
     ]
    }
   ],
   "source": [
    "print(\"Hello world!\")"
   ]
  },
  {
   "cell_type": "markdown",
   "metadata": {},
   "source": [
    "Congratulations! You've just executed your first Python program! Importantly, by the Laws of Introductory Programming Courses, it was the obligatory \"Hello world\" program. \n",
    "\n",
    "The little mark saying `In [1]:` to the left of the block means that this is the first code block you've input. The numbers in brackets will increase as you execute more blocks of code.\n",
    "\n",
    "If you're not careful, this can cause problems. Here's an example.\n",
    "\n",
    "Execute the following piece of code:"
   ]
  },
  {
   "cell_type": "code",
   "execution_count": 16,
   "metadata": {},
   "outputs": [],
   "source": [
    "a = 19"
   ]
  },
  {
   "cell_type": "markdown",
   "metadata": {},
   "source": [
    "This defines the *variable* `a`, and assigns it the value 19. Let's check that, by printing out `a`:"
   ]
  },
  {
   "cell_type": "code",
   "execution_count": 17,
   "metadata": {},
   "outputs": [
    {
     "data": {
      "text/plain": [
       "19"
      ]
     },
     "execution_count": 17,
     "metadata": {},
     "output_type": "execute_result"
    }
   ],
   "source": [
    "a"
   ]
  },
  {
   "cell_type": "markdown",
   "metadata": {},
   "source": [
    "Cool! That number got saved in memory, so that we can access it again later. Now let's change `a` and print it out again:"
   ]
  },
  {
   "cell_type": "code",
   "execution_count": 18,
   "metadata": {},
   "outputs": [
    {
     "data": {
      "text/plain": [
       "20"
      ]
     },
     "execution_count": 18,
     "metadata": {},
     "output_type": "execute_result"
    }
   ],
   "source": [
    "a = a + 1\n",
    "a"
   ]
  },
  {
   "cell_type": "markdown",
   "metadata": {},
   "source": [
    "The first line adds 1 to `a`, giving the number 20, and then assigns that to `a`, so that when we print `a` on the next line we get the output 20. \n",
    "\n",
    "(Note: if you haven't seen this before, then the equation $a = a + 1$ might look quite strange and confusing. In maths, $a = a + 1$ has no solution; $a$ *can't* be equal $a + 1$. However, when programming, the equals sign is an *assignment operator*; it assigns the thing on the right of the equals sign into the thing on the left. Ask your practical demonstrator about this now if you're confused!)\n",
    "\n",
    "Now, go back to the first time we printed out `a` and execute that block again. (It should be the `In [3]:` block the first time you run through this.) The output has changed from 19 to 20! If you now read through the notebook from the top without looking at the line numbers, it seems like something has gone wrong - the variable `a` changed from 19 to 20 seemingly by itself!\n",
    "\n",
    "This is something to watch out for with Jupyter notebooks - re-executing cells you can change things, and mess up the flow of your work. You should always try and work by executing cells down the page, or at the very least keep track of those `In []:` and `Out []:` lines.\n",
    "\n",
    "OK, enough cautionary tales. Let's move on to the main part of this practical."
   ]
  },
  {
   "cell_type": "markdown",
   "metadata": {},
   "source": [
    "## Exploring the Titanic dataset\n",
    "\n",
    "The aim of this practical is to make some of the plots featured in the course materials (see [Week 1 Functions: A Motivating Example](https://myuni.adelaide.edu.au/courses/92859/pages/week-1-functions-a-motivating-example)), which came from [Kaggle](https://www.kaggle.com/c/titanic). You should sign up - there are thousands of great datasets, tutorials, and competitions, to play with, all relating to data science and machine learning.\n",
    "\n",
    "For now, the Titanic dataset is included with this notebook on MyUni. Go and download the file and unzip it. We'll be playing with the `train.csv` (comma-separated values) file. Open that file up in a text editor (**not Excel**) and look at it. \n",
    "\n",
    "Notice that the top line contains the column names, and each row underneath contains info on one person. And each column is separated by a comma. Our task is to read that data into Python so that we can play with it. That means we first need to put it somewhere that Python can find it.\n",
    "\n",
    "Where is this notebook located within your computer's directory structure? Insert a cell below this one and execute the command `pwd` to find out.\n",
    "\n",
    "Don't know how to insert a cell? Go to `Help > Keyboard shortcuts` and search for \"insert cell below\". These keyboard shortcuts are your best friend actually - take a moment to familiarise yourself."
   ]
  },
  {
   "cell_type": "code",
   "execution_count": 19,
   "metadata": {},
   "outputs": [
    {
     "name": "stdout",
     "output_type": "stream",
     "text": [
      " ������ C �еľ��� Commandore\n",
      " �������к��� 4AB0-8E8D\n",
      "\n",
      " c:\\Users\\secar\\OneDrive\\UOA\\2024T2\\7027Mathematics\\A1 ��Ŀ¼\n",
      "\n",
      "2024/05/31  22:22    <DIR>          .\n",
      "2024/05/25  19:55    <DIR>          ..\n",
      "2024/05/28  16:27                 0 Assignment1.md\n",
      "2024/05/25  19:46           181,773 MFDS_A1.pdf\n",
      "2024/05/29  23:04            15,924 MFDS_P1.ipynb\n",
      "2024/05/25  19:54             4,073 swimming.csv\n",
      "2024/05/25  19:54             9,423 swimming.xlsx\n",
      "2024/05/31  22:22    <DIR>          titanic\n",
      "               5 ���ļ�        211,193 �ֽ�\n",
      "               3 ��Ŀ¼ 243,166,654,464 �����ֽ�\n"
     ]
    }
   ],
   "source": [
    "ls"
   ]
  },
  {
   "cell_type": "markdown",
   "metadata": {},
   "source": [
    "That string tells you the current working directory. Reading from the left, each slash (`/` or `\\` depending on your system) means to go deeper into the named directories (folders). `pwd` is UNIX language, and Python uses it. If you don't know what the following UNIX commands do, you may wish to Google them (though it may be easier to ask a classmate or the practical demonstrator for assistance):\n",
    "\n",
    "- `pwd`\n",
    "- `cd`\n",
    "- `ls`\n",
    "- `ls *.ipynb` (or `*.whatever`)\n",
    "- `mkdir`\n",
    "- `cd ..`\n",
    "- `cd ~`\n",
    "\n",
    "You may like to try some of them out here. Beware that `rm` removes things, and can remove **important** things if you aren't careful - we don't really need `rm` today, so it might be safer not to try out that command.\n",
    "\n",
    "Once you have some idea of UNIX-style directory structure, put the `titanic` directory somewhere that you can `ls` its contents from here (i.e., so you can see both the `titanic` directory and also see `MFDS_P1.ipynb` when you enter the `ls` command).\n",
    "\n",
    "To import `train.csv` and take a look at it, we'll use `pandas`:"
   ]
  },
  {
   "cell_type": "code",
   "execution_count": 1,
   "metadata": {},
   "outputs": [
    {
     "data": {
      "text/html": [
       "<div>\n",
       "<style scoped>\n",
       "    .dataframe tbody tr th:only-of-type {\n",
       "        vertical-align: middle;\n",
       "    }\n",
       "\n",
       "    .dataframe tbody tr th {\n",
       "        vertical-align: top;\n",
       "    }\n",
       "\n",
       "    .dataframe thead th {\n",
       "        text-align: right;\n",
       "    }\n",
       "</style>\n",
       "<table border=\"1\" class=\"dataframe\">\n",
       "  <thead>\n",
       "    <tr style=\"text-align: right;\">\n",
       "      <th></th>\n",
       "      <th>PassengerId</th>\n",
       "      <th>Survived</th>\n",
       "      <th>Pclass</th>\n",
       "      <th>Name</th>\n",
       "      <th>Sex</th>\n",
       "      <th>Age</th>\n",
       "      <th>SibSp</th>\n",
       "      <th>Parch</th>\n",
       "      <th>Ticket</th>\n",
       "      <th>Fare</th>\n",
       "      <th>Cabin</th>\n",
       "      <th>Embarked</th>\n",
       "    </tr>\n",
       "  </thead>\n",
       "  <tbody>\n",
       "    <tr>\n",
       "      <th>886</th>\n",
       "      <td>887</td>\n",
       "      <td>0</td>\n",
       "      <td>2</td>\n",
       "      <td>Montvila, Rev. Juozas</td>\n",
       "      <td>male</td>\n",
       "      <td>27.0</td>\n",
       "      <td>0</td>\n",
       "      <td>0</td>\n",
       "      <td>211536</td>\n",
       "      <td>13.00</td>\n",
       "      <td>NaN</td>\n",
       "      <td>S</td>\n",
       "    </tr>\n",
       "    <tr>\n",
       "      <th>887</th>\n",
       "      <td>888</td>\n",
       "      <td>1</td>\n",
       "      <td>1</td>\n",
       "      <td>Graham, Miss. Margaret Edith</td>\n",
       "      <td>female</td>\n",
       "      <td>19.0</td>\n",
       "      <td>0</td>\n",
       "      <td>0</td>\n",
       "      <td>112053</td>\n",
       "      <td>30.00</td>\n",
       "      <td>B42</td>\n",
       "      <td>S</td>\n",
       "    </tr>\n",
       "    <tr>\n",
       "      <th>888</th>\n",
       "      <td>889</td>\n",
       "      <td>0</td>\n",
       "      <td>3</td>\n",
       "      <td>Johnston, Miss. Catherine Helen \"Carrie\"</td>\n",
       "      <td>female</td>\n",
       "      <td>NaN</td>\n",
       "      <td>1</td>\n",
       "      <td>2</td>\n",
       "      <td>W./C. 6607</td>\n",
       "      <td>23.45</td>\n",
       "      <td>NaN</td>\n",
       "      <td>S</td>\n",
       "    </tr>\n",
       "    <tr>\n",
       "      <th>889</th>\n",
       "      <td>890</td>\n",
       "      <td>1</td>\n",
       "      <td>1</td>\n",
       "      <td>Behr, Mr. Karl Howell</td>\n",
       "      <td>male</td>\n",
       "      <td>26.0</td>\n",
       "      <td>0</td>\n",
       "      <td>0</td>\n",
       "      <td>111369</td>\n",
       "      <td>30.00</td>\n",
       "      <td>C148</td>\n",
       "      <td>C</td>\n",
       "    </tr>\n",
       "    <tr>\n",
       "      <th>890</th>\n",
       "      <td>891</td>\n",
       "      <td>0</td>\n",
       "      <td>3</td>\n",
       "      <td>Dooley, Mr. Patrick</td>\n",
       "      <td>male</td>\n",
       "      <td>32.0</td>\n",
       "      <td>0</td>\n",
       "      <td>0</td>\n",
       "      <td>370376</td>\n",
       "      <td>7.75</td>\n",
       "      <td>NaN</td>\n",
       "      <td>Q</td>\n",
       "    </tr>\n",
       "  </tbody>\n",
       "</table>\n",
       "</div>"
      ],
      "text/plain": [
       "     PassengerId  Survived  Pclass                                      Name  \\\n",
       "886          887         0       2                     Montvila, Rev. Juozas   \n",
       "887          888         1       1              Graham, Miss. Margaret Edith   \n",
       "888          889         0       3  Johnston, Miss. Catherine Helen \"Carrie\"   \n",
       "889          890         1       1                     Behr, Mr. Karl Howell   \n",
       "890          891         0       3                       Dooley, Mr. Patrick   \n",
       "\n",
       "        Sex   Age  SibSp  Parch      Ticket   Fare Cabin Embarked  \n",
       "886    male  27.0      0      0      211536  13.00   NaN        S  \n",
       "887  female  19.0      0      0      112053  30.00   B42        S  \n",
       "888  female   NaN      1      2  W./C. 6607  23.45   NaN        S  \n",
       "889    male  26.0      0      0      111369  30.00  C148        C  \n",
       "890    male  32.0      0      0      370376   7.75   NaN        Q  "
      ]
     },
     "execution_count": 1,
     "metadata": {},
     "output_type": "execute_result"
    }
   ],
   "source": [
    "import pandas as pd\n",
    "\n",
    "df1 = pd.read_csv('titanic/train.csv')\n",
    "df1.tail()"
   ]
  },
  {
   "cell_type": "markdown",
   "metadata": {},
   "source": [
    "Let's talk through what the above code does. First, we import a package called `pandas`, call it `pd` (so we don't have to keep writing \"pandas\" all the time), then uses the `read_csv` function to read `train.csv` into a *dataframe* called `df1`. Finally, we look at the bottom (the `tail`) of that dataframe. You should see some information about some passengers, like was in the course notes. If you get an error, ask your neighbour or the practical demonstrator for help!\n",
    "\n",
    "You can see some issues with the data already - there are numbers mixed with strings (words) in some columns, integers and floats (non-integers), and worst of all: some `NaN`'s (Not a Number, in the Cabin column), where we don't have data. Those `NaN`'s ruin our ability to do maths, and so we should remove them. Without getting bogged-down in the details for now, you can run the following block of code to remove every row that contains at least one `NaN`."
   ]
  },
  {
   "cell_type": "code",
   "execution_count": 21,
   "metadata": {
    "scrolled": true
   },
   "outputs": [
    {
     "data": {
      "text/html": [
       "<div>\n",
       "<style scoped>\n",
       "    .dataframe tbody tr th:only-of-type {\n",
       "        vertical-align: middle;\n",
       "    }\n",
       "\n",
       "    .dataframe tbody tr th {\n",
       "        vertical-align: top;\n",
       "    }\n",
       "\n",
       "    .dataframe thead th {\n",
       "        text-align: right;\n",
       "    }\n",
       "</style>\n",
       "<table border=\"1\" class=\"dataframe\">\n",
       "  <thead>\n",
       "    <tr style=\"text-align: right;\">\n",
       "      <th></th>\n",
       "      <th>Age</th>\n",
       "      <th>Fare</th>\n",
       "      <th>Survived</th>\n",
       "      <th>FareLog10</th>\n",
       "    </tr>\n",
       "  </thead>\n",
       "  <tbody>\n",
       "    <tr>\n",
       "      <th>885</th>\n",
       "      <td>39.0</td>\n",
       "      <td>29.125</td>\n",
       "      <td>0</td>\n",
       "      <td>1.478927</td>\n",
       "    </tr>\n",
       "    <tr>\n",
       "      <th>886</th>\n",
       "      <td>27.0</td>\n",
       "      <td>13.000</td>\n",
       "      <td>0</td>\n",
       "      <td>1.146128</td>\n",
       "    </tr>\n",
       "    <tr>\n",
       "      <th>887</th>\n",
       "      <td>19.0</td>\n",
       "      <td>30.000</td>\n",
       "      <td>1</td>\n",
       "      <td>1.491362</td>\n",
       "    </tr>\n",
       "    <tr>\n",
       "      <th>889</th>\n",
       "      <td>26.0</td>\n",
       "      <td>30.000</td>\n",
       "      <td>1</td>\n",
       "      <td>1.491362</td>\n",
       "    </tr>\n",
       "    <tr>\n",
       "      <th>890</th>\n",
       "      <td>32.0</td>\n",
       "      <td>7.750</td>\n",
       "      <td>0</td>\n",
       "      <td>0.942008</td>\n",
       "    </tr>\n",
       "  </tbody>\n",
       "</table>\n",
       "</div>"
      ],
      "text/plain": [
       "      Age    Fare  Survived  FareLog10\n",
       "885  39.0  29.125         0   1.478927\n",
       "886  27.0  13.000         0   1.146128\n",
       "887  19.0  30.000         1   1.491362\n",
       "889  26.0  30.000         1   1.491362\n",
       "890  32.0   7.750         0   0.942008"
      ]
     },
     "execution_count": 21,
     "metadata": {},
     "output_type": "execute_result"
    }
   ],
   "source": [
    "import numpy as np\n",
    "\n",
    "df2 = df1[['Age','Fare','Survived']].dropna()\n",
    "df2['FareLog10'] = np.log10(df2['Fare']+1)\n",
    "df2.tail()"
   ]
  },
  {
   "cell_type": "markdown",
   "metadata": {},
   "source": [
    "This dataframe is an *object* in Python, and we can chain some functions to it by using a `.`. For example, the `.tail()` above applied the `tail()` function to `df2` (or `df1`). The `describe()` function is particularly useful: try applying it to the dataframe to get some useful statistics."
   ]
  },
  {
   "cell_type": "code",
   "execution_count": 22,
   "metadata": {},
   "outputs": [
    {
     "data": {
      "text/html": [
       "<div>\n",
       "<style scoped>\n",
       "    .dataframe tbody tr th:only-of-type {\n",
       "        vertical-align: middle;\n",
       "    }\n",
       "\n",
       "    .dataframe tbody tr th {\n",
       "        vertical-align: top;\n",
       "    }\n",
       "\n",
       "    .dataframe thead th {\n",
       "        text-align: right;\n",
       "    }\n",
       "</style>\n",
       "<table border=\"1\" class=\"dataframe\">\n",
       "  <thead>\n",
       "    <tr style=\"text-align: right;\">\n",
       "      <th></th>\n",
       "      <th>PassengerId</th>\n",
       "      <th>Survived</th>\n",
       "      <th>Pclass</th>\n",
       "      <th>Age</th>\n",
       "      <th>SibSp</th>\n",
       "      <th>Parch</th>\n",
       "      <th>Fare</th>\n",
       "    </tr>\n",
       "  </thead>\n",
       "  <tbody>\n",
       "    <tr>\n",
       "      <th>count</th>\n",
       "      <td>891.000000</td>\n",
       "      <td>891.000000</td>\n",
       "      <td>891.000000</td>\n",
       "      <td>714.000000</td>\n",
       "      <td>891.000000</td>\n",
       "      <td>891.000000</td>\n",
       "      <td>891.000000</td>\n",
       "    </tr>\n",
       "    <tr>\n",
       "      <th>mean</th>\n",
       "      <td>446.000000</td>\n",
       "      <td>0.383838</td>\n",
       "      <td>2.308642</td>\n",
       "      <td>29.699118</td>\n",
       "      <td>0.523008</td>\n",
       "      <td>0.381594</td>\n",
       "      <td>32.204208</td>\n",
       "    </tr>\n",
       "    <tr>\n",
       "      <th>std</th>\n",
       "      <td>257.353842</td>\n",
       "      <td>0.486592</td>\n",
       "      <td>0.836071</td>\n",
       "      <td>14.526497</td>\n",
       "      <td>1.102743</td>\n",
       "      <td>0.806057</td>\n",
       "      <td>49.693429</td>\n",
       "    </tr>\n",
       "    <tr>\n",
       "      <th>min</th>\n",
       "      <td>1.000000</td>\n",
       "      <td>0.000000</td>\n",
       "      <td>1.000000</td>\n",
       "      <td>0.420000</td>\n",
       "      <td>0.000000</td>\n",
       "      <td>0.000000</td>\n",
       "      <td>0.000000</td>\n",
       "    </tr>\n",
       "    <tr>\n",
       "      <th>25%</th>\n",
       "      <td>223.500000</td>\n",
       "      <td>0.000000</td>\n",
       "      <td>2.000000</td>\n",
       "      <td>20.125000</td>\n",
       "      <td>0.000000</td>\n",
       "      <td>0.000000</td>\n",
       "      <td>7.910400</td>\n",
       "    </tr>\n",
       "    <tr>\n",
       "      <th>50%</th>\n",
       "      <td>446.000000</td>\n",
       "      <td>0.000000</td>\n",
       "      <td>3.000000</td>\n",
       "      <td>28.000000</td>\n",
       "      <td>0.000000</td>\n",
       "      <td>0.000000</td>\n",
       "      <td>14.454200</td>\n",
       "    </tr>\n",
       "    <tr>\n",
       "      <th>75%</th>\n",
       "      <td>668.500000</td>\n",
       "      <td>1.000000</td>\n",
       "      <td>3.000000</td>\n",
       "      <td>38.000000</td>\n",
       "      <td>1.000000</td>\n",
       "      <td>0.000000</td>\n",
       "      <td>31.000000</td>\n",
       "    </tr>\n",
       "    <tr>\n",
       "      <th>max</th>\n",
       "      <td>891.000000</td>\n",
       "      <td>1.000000</td>\n",
       "      <td>3.000000</td>\n",
       "      <td>80.000000</td>\n",
       "      <td>8.000000</td>\n",
       "      <td>6.000000</td>\n",
       "      <td>512.329200</td>\n",
       "    </tr>\n",
       "  </tbody>\n",
       "</table>\n",
       "</div>"
      ],
      "text/plain": [
       "       PassengerId    Survived      Pclass         Age       SibSp  \\\n",
       "count   891.000000  891.000000  891.000000  714.000000  891.000000   \n",
       "mean    446.000000    0.383838    2.308642   29.699118    0.523008   \n",
       "std     257.353842    0.486592    0.836071   14.526497    1.102743   \n",
       "min       1.000000    0.000000    1.000000    0.420000    0.000000   \n",
       "25%     223.500000    0.000000    2.000000   20.125000    0.000000   \n",
       "50%     446.000000    0.000000    3.000000   28.000000    0.000000   \n",
       "75%     668.500000    1.000000    3.000000   38.000000    1.000000   \n",
       "max     891.000000    1.000000    3.000000   80.000000    8.000000   \n",
       "\n",
       "            Parch        Fare  \n",
       "count  891.000000  891.000000  \n",
       "mean     0.381594   32.204208  \n",
       "std      0.806057   49.693429  \n",
       "min      0.000000    0.000000  \n",
       "25%      0.000000    7.910400  \n",
       "50%      0.000000   14.454200  \n",
       "75%      0.000000   31.000000  \n",
       "max      6.000000  512.329200  "
      ]
     },
     "execution_count": 22,
     "metadata": {},
     "output_type": "execute_result"
    }
   ],
   "source": [
    "df1.describe()"
   ]
  },
  {
   "cell_type": "markdown",
   "metadata": {},
   "source": [
    "What is the proportion of passengers who survived? You should be able to figure this out from the output above.\n",
    "\n",
    "We can do some more exploration of this dataset, guided by some questions. Here's a good one: \n",
    "\n",
    "*Were female or male passengers more likely to survive the Titanic?*\n",
    "\n",
    "To answer this question, we'll need to subset the data by the values in the `Sex` column. The first thing to do is to get the rows containing just males or just females. Try this:"
   ]
  },
  {
   "cell_type": "code",
   "execution_count": 23,
   "metadata": {},
   "outputs": [
    {
     "data": {
      "text/plain": [
       "0      False\n",
       "1       True\n",
       "2       True\n",
       "3       True\n",
       "4      False\n",
       "       ...  \n",
       "886    False\n",
       "887     True\n",
       "888     True\n",
       "889    False\n",
       "890    False\n",
       "Name: Sex, Length: 891, dtype: bool"
      ]
     },
     "execution_count": 23,
     "metadata": {},
     "output_type": "execute_result"
    }
   ],
   "source": [
    "df1['Sex'] == 'female'"
   ]
  },
  {
   "cell_type": "markdown",
   "metadata": {},
   "source": [
    "The double equals sign does a logical comparison - reading from left to right it tells Python to: \"grab the `Sex` column of df1 (`df1['Sex']`), and return `True` for whichever values are equal to `female`\". This gives us the rows of `df1` for which the gender of the passenger in that row is `female`.\n",
    "\n",
    "Now, to get the survival status of those passengers, you would look at the column `Survived` for those rows:"
   ]
  },
  {
   "cell_type": "code",
   "execution_count": 24,
   "metadata": {},
   "outputs": [
    {
     "data": {
      "text/plain": [
       "1      1\n",
       "2      1\n",
       "3      1\n",
       "8      1\n",
       "9      1\n",
       "      ..\n",
       "880    1\n",
       "882    0\n",
       "885    0\n",
       "887    1\n",
       "888    0\n",
       "Name: Survived, Length: 314, dtype: int64"
      ]
     },
     "execution_count": 24,
     "metadata": {},
     "output_type": "execute_result"
    }
   ],
   "source": [
    "df1['Survived'][df1['Sex'] == 'female']"
   ]
  },
  {
   "cell_type": "markdown",
   "metadata": {},
   "source": [
    "See how the first column gives the same numbers as the `True` values from the block above? This is because we've only selected the rows for which `df1['Sex'] == 'female'` is `True`, i.e., the female passengers. Now, given these survival statuses for females, how can you figure out the proportion of females who survived? \n",
    "\n",
    "We will use the `.mean()` function:"
   ]
  },
  {
   "cell_type": "code",
   "execution_count": 25,
   "metadata": {},
   "outputs": [
    {
     "name": "stdout",
     "output_type": "stream",
     "text": [
      "The proportion of females who survived is : 0.7420382165605095\n"
     ]
    }
   ],
   "source": [
    "# we will calculate the proportion of female passengers who survived\n",
    "p_F = df1['Survived'][df1['Sex'] == 'female'].mean()\n",
    "print('The proportion of females who survived is :',p_F)"
   ]
  },
  {
   "cell_type": "markdown",
   "metadata": {},
   "source": [
    "See also a couple of things above:\n",
    "- Putting a hash (`#`) at the start of some text makes it a comment, which gets ignored when executing the block. Commenting your code is very important and you should do it a lot!\n",
    "- Notice how the `print` statement can combine strings and numbers. This can be very helpful."
   ]
  },
  {
   "cell_type": "markdown",
   "metadata": {},
   "source": [
    "Finally, let's do some basic visualisation of our data by making some plots. `matplotlib.pyplot` is the standard toolbox in Python 3, and you can read about everything you need to get started [here](https://matplotlib.org/tutorials/introductory/pyplot.html). \n",
    "\n",
    "First, we need to import `matplotlib.pyplot`, and then we will make the histograms shown in MyUni.\n",
    "\n",
    "We will make a histogram which shows the ages of the passengers who survived (`Survived` == 1), and the passengers who didn't (`Survived` == 0). To do this we need to:\n",
    "\n",
    "1. Get the indices of the rows for which `Survived` == 1;\n",
    "2. Select the ages of passengers in these rows;\n",
    "3. Save these values as a variable to plot (say, `ages_1`);\n",
    "4. Repeat steps 1-3 for `Survived` == 0 to get `ages_0`;\n",
    "5. Create two histograms  of `ages_1` and `ages_0`."
   ]
  },
  {
   "cell_type": "code",
   "execution_count": 27,
   "metadata": {},
   "outputs": [
    {
     "data": {
      "text/plain": [
       "<matplotlib.legend.Legend at 0x21c6997eb60>"
      ]
     },
     "execution_count": 27,
     "metadata": {},
     "output_type": "execute_result"
    },
    {
     "data": {
      "image/png": "[encoded data removed]",
      "text/plain": [
       "<Figure size 640x480 with 1 Axes>"
      ]
     },
     "metadata": {},
     "output_type": "display_data"
    }
   ],
   "source": [
    "# import matplotlib.pyplot\n",
    "import matplotlib.pyplot as plt\n",
    "\n",
    "# this bit gets the required data - we filter by 'Survived' and then look at the 'Age' column\n",
    "ages_1 = df2['Age'][df2['Survived'] == 1]\n",
    "ages_0 = df2['Age'][df2['Survived'] == 0]\n",
    "# this is the command for the histogram\n",
    "plt.hist(ages_1,label='Survived',alpha=0.2)\n",
    "plt.hist(ages_0,label='Died',alpha=0.2)\n",
    "#these add labels and a legend\n",
    "plt.xlabel('Age')\n",
    "plt.ylabel('Count')\n",
    "plt.legend()"
   ]
  },
  {
   "cell_type": "markdown",
   "metadata": {},
   "source": [
    "We haven't told you what `alpha` does in the code above. Try changing the `alpha` values and executing the code again to see if you can work it out yourself!\n",
    "\n",
    "You can also try to make the other histogram shown at [Week 1 Functions: A Motivating Example](https://myuni.adelaide.edu.au/courses/92859/pages/week-1-functions-a-motivating-example), which shows the number of survivors/non-survivors by Fare You should be able to use similar commands. Do this in the box below. \n",
    "\n",
    "Note that when we set up `df2` we included a `FareLog10` column. Try using that column instead of `Fare` - do you think it gives a better histogram?"
   ]
  },
  {
   "cell_type": "code",
   "execution_count": 28,
   "metadata": {},
   "outputs": [
    {
     "data": {
      "text/plain": [
       "<matplotlib.legend.Legend at 0x21c69b0faf0>"
      ]
     },
     "execution_count": 28,
     "metadata": {},
     "output_type": "execute_result"
    },
    {
     "data": {
      "image/png": "[encoded data removed]",
      "text/plain": [
       "<Figure size 640x480 with 1 Axes>"
      ]
     },
     "metadata": {},
     "output_type": "display_data"
    }
   ],
   "source": [
    "fares_1 = df2['Fare'][df2['Survived'] == 1]\n",
    "fares_0 = df2['Fare'][df2['Survived'] == 0]\n",
    "plt.hist(fares_1,label='Survived',alpha=0.2)\n",
    "plt.hist(fares_0,label='Died',alpha=0.2)\n",
    "#these add labels and a legend\n",
    "plt.xlabel('Fares')\n",
    "plt.ylabel('Count')\n",
    "plt.legend()"
   ]
  },
  {
   "cell_type": "markdown",
   "metadata": {},
   "source": [
    "Here are some extension exercises you can try yourself if you are interested:\n",
    "\n",
    "- Do you think there's a difference in age between those who survived and those who didn't? Try calculating the mean and median of both distributions to get more of a feel for them.\n",
    "- Can you plot vertical lines showing the mean (or median) values of each histogram?\n",
    "- How might you visualise the difference in survival rates between male and female passengers? Take a look at `plt.bar` and see if you can make a bar plot."
   ]
  },
  {
   "cell_type": "code",
   "execution_count": 43,
   "metadata": {},
   "outputs": [
    {
     "data": {
      "image/png": "[encoded data removed]",
      "text/plain": [
       "<Figure size 600x400 with 1 Axes>"
      ]
     },
     "metadata": {},
     "output_type": "display_data"
    }
   ],
   "source": [
    "import matplotlib.pyplot as plt\n",
    "import numpy as np\n",
    "# 定义分段函数\n",
    "def piecewise_function(x):\n",
    "    return np.where(x <=3 , 0.5*(x-1)**2+2, -0.5*x + 1)\n",
    "# 生成x值的数组\n",
    "x = np.linspace(1,5,100)\n",
    "# 计算对应的y值\n",
    "y = piecewise_function(x)\n",
    "# 使用Matplotlib绘制图形\n",
    "plt.figure(figsize=(6, 4))  # 设置图形大小\n",
    "plt.plot(x, y, label='Piecewise Function')  # 绘制分段函数\n",
    "plt.plot(y,x,label='$f^{-1}(x)$')\n",
    "plt.xlabel('x')  # 设置x轴标签\n",
    "plt.ylabel('y')  # 设置y轴标签\n",
    "plt.title('Piecewise Function Plot')  # 设置图形标题\n",
    "plt.legend()  # 显示图例\n",
    "plt.grid(True)  # 显示网格线\n",
    "plt.show()  # 显示图形"
   ]
  },
  {
   "cell_type": "code",
   "execution_count": 44,
   "metadata": {},
   "outputs": [
    {
     "data": {
      "image/png": "[encoded data removed]",
      "text/plain": [
       "<Figure size 640x480 with 1 Axes>"
      ]
     },
     "metadata": {},
     "output_type": "display_data"
    }
   ],
   "source": [
    "import matplotlib.pyplot as plt\n",
    "import numpy as np\n",
    "\n",
    "# 生成x轴数据\n",
    "x = np.linspace(0, 10, 100)\n",
    "# 生成y轴数据，这里用y=x^2作为示例函数\n",
    "y = x**2\n",
    "\n",
    "# 绘制函数曲线\n",
    "plt.plot(x, y, label='Function Curve')\n",
    "\n",
    "# 在曲线两端画空心点和实心点\n",
    "plt.plot(x[0], y[0], 'o', markersize=8, markerfacecolor='white', markeredgewidth=2, label='Empty Point')\n",
    "plt.plot(x[-1], y[-1], 'o', markersize=8, markerfacecolor='black', label='Solid Point')\n",
    "\n",
    "# 添加标签和标题\n",
    "plt.xlabel('x')\n",
    "plt.ylabel('y')\n",
    "plt.title('Function Curve with Points')\n",
    "plt.legend()\n",
    "\n",
    "# 显示图形\n",
    "plt.show()\n"
   ]
  },
  {
   "cell_type": "code",
   "execution_count": 90,
   "metadata": {},
   "outputs": [
    {
     "data": {
      "image/png": "[encoded data removed]",
      "text/plain": [
       "<Figure size 640x480 with 1 Axes>"
      ]
     },
     "metadata": {},
     "output_type": "display_data"
    }
   ],
   "source": [
    "import numpy as np\n",
    "import matplotlib.pyplot as plt\n",
    "\n",
    "# 定义分段函数的不同段落\n",
    "x1 = np.linspace(1, 3, 10)  # 第一段函数的 x 范围\n",
    "x2 = np.linspace(3, 5, 10)  # 第二段函数的 x 范围\n",
    "y1 = 0.5 * (x1 - 1) ** 2 + 2  # 第一段函数的表达式\n",
    "y2 = -0.5 * x2  + 3.5  # 第二段函数的表达式\n",
    "\n",
    "# 绘制曲线\n",
    "plt.plot(x1, y1, 'r',label='$f$')  # 绘制第一段函数曲线\n",
    "plt.plot(x2, y2, 'r')  # 绘制第二段函数曲线\n",
    "plt.plot(x1[-1], y1[-1], 'o', markersize=8, markerfacecolor='r',color = 'r') #x=3时二次函数曲线是实心点\n",
    "plt.plot(x2[0], y2[0], 'o',markersize=8, markerfacecolor='white', markeredgewidth=2, color = 'r') # x=3时第二段分段函数是空心点\n",
    "plt.plot(x2[-1], y2[-1], 'o', markersize=8, markerfacecolor='white', markeredgewidth=2, color = 'r') # x=5时第二段分段函数是空心点\n",
    "\n",
    "plt.plot(y1,x1,'b',label='$f^{-1}$') # 绘制第一段函数反函数曲线\n",
    "plt.plot(y2,x2,'b') # 绘制第二段函数反函数曲线\n",
    "plt.plot(y1[0],x1[0],'o',markersize=8, markerfacecolor = 'b',color = 'b')\n",
    "plt.plot(y2[0],x2[0],'o',markersize=8, markerfacecolor='white',markeredgewidth=2,color = 'b')\n",
    "plt.plot(y2[-1],x2[-1],'o',markersize=8, markerfacecolor='white',markeredgewidth=2,color = 'b')\n",
    "\n",
    "# 设置图例\n",
    "plt.legend()\n",
    "plt.grid()\n",
    "# 设置标题和坐标轴标签\n",
    "plt.title(\"Assignment1 Question2-(c)'s graph\")\n",
    "plt.xlabel('x')\n",
    "plt.ylabel('y')\n",
    "\n",
    "# 显示图像\n",
    "plt.show()\n"
   ]
  }
 ],
 "metadata": {
  "kernelspec": {
   "display_name": "Python 3 (ipykernel)",
   "language": "python",
   "name": "python3"
  },
  "language_info": {
   "codemirror_mode": {
    "name": "ipython",
    "version": 3
   },
   "file_extension": ".py",
   "mimetype": "text/x-python",
   "name": "python",
   "nbconvert_exporter": "python",
   "pygments_lexer": "ipython3",
   "version": "3.10.11"
  },
  "toc": {
   "base_numbering": 1,
   "nav_menu": {},
   "number_sections": true,
   "sideBar": true,
   "skip_h1_title": false,
   "title_cell": "Table of Contents",
   "title_sidebar": "Contents",
   "toc_cell": false,
   "toc_position": {},
   "toc_section_display": true,
   "toc_window_display": false
  }
 },
 "nbformat": 4,
 "nbformat_minor": 2
}
